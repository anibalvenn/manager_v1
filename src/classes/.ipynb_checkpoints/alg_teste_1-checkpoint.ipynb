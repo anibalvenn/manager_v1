{
 "cells": [
  {
   "cell_type": "code",
   "execution_count": null,
   "id": "2486c907",
   "metadata": {},
   "outputs": [],
   "source": [
    "import csv\n",
    "import random"
   ]
  },
  {
   "cell_type": "code",
   "execution_count": null,
   "id": "c1a97f58",
   "metadata": {},
   "outputs": [],
   "source": [
    "# change csv\n",
    "\n",
    "def randomize_csv(input_file, output_file):\n",
    "    # Read CSV into a list\n",
    "    with open(input_file, 'r') as infile:\n",
    "        reader = csv.reader(infile)\n",
    "        rows = list(reader)\n",
    "\n",
    "    # Shuffle the rows\n",
    "    random.shuffle(rows)\n",
    "\n",
    "    # Write the shuffled list back to the CSV file\n",
    "    with open(output_file, 'w', newline='') as outfile:\n",
    "        writer = csv.writer(outfile)\n",
    "        writer.writerows(rows)\n",
    "\n"
   ]
  },
  {
   "cell_type": "code",
   "execution_count": null,
   "id": "64f63af5",
   "metadata": {},
   "outputs": [],
   "source": []
  },
  {
   "cell_type": "code",
   "execution_count": null,
   "id": "253b3d1d",
   "metadata": {},
   "outputs": [],
   "source": [
    "randomize_csv (\"player.csv\", \"S1.csv\")"
   ]
  }
 ],
 "metadata": {
  "kernelspec": {
   "display_name": "Python 3 (ipykernel)",
   "language": "python",
   "name": "python3"
  },
  "language_info": {
   "codemirror_mode": {
    "name": "ipython",
    "version": 3
   },
   "file_extension": ".py",
   "mimetype": "text/x-python",
   "name": "python",
   "nbconvert_exporter": "python",
   "pygments_lexer": "ipython3",
   "version": "3.11.5"
  }
 },
 "nbformat": 4,
 "nbformat_minor": 5
}
