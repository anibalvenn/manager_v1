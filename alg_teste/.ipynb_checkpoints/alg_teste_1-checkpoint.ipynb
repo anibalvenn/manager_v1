{
 "cells": [
  {
   "cell_type": "code",
   "execution_count": 161,
   "id": "2486c907",
   "metadata": {},
   "outputs": [],
   "source": [
    "import pandas as pd\n",
    "import csv\n",
    "import random\n",
    "import openpyxl\n",
    "import win32com.client\n",
    "\n",
    "from datetime import datetime\n"
   ]
  },
  {
   "cell_type": "code",
   "execution_count": 152,
   "id": "c1a97f58",
   "metadata": {},
   "outputs": [],
   "source": [
    "def randomize_csv(input_file, output_file):\n",
    "    # Read CSV into a list\n",
    "    with open(input_file, 'r') as infile:\n",
    "        reader = csv.reader(infile)\n",
    "        rows = list(reader)\n",
    "\n",
    "    # Keep the header unchanged and replace others with two new columns filled with zeros\n",
    "    header = [\"player_name\", \"points\", \"loses\"]\n",
    "    for row in rows[1:]:\n",
    "        row[1:] = ['0', '0']\n",
    "\n",
    "    # Shuffle the rows (excluding the header)\n",
    "    random.shuffle(rows[1:])\n",
    "\n",
    "    # Write the shuffled list back to the CSV file\n",
    "    with open(output_file, 'w', newline='') as outfile:\n",
    "        writer = csv.writer(outfile)\n",
    "        writer.writerow(header)\n",
    "        writer.writerows(rows[1:])\n",
    "\n",
    "\n",
    "def rank_csv(input_file, output_file, column_to_rank):\n",
    "    # Read CSV into a DataFrame\n",
    "    df = pd.read_csv(input_file)\n",
    "\n",
    "    # Sort the DataFrame by the rank column\n",
    "    df.sort_values(by=column_to_rank, ascending=False, inplace=True)\n",
    "\n",
    "    # Reset the values in the specified column to 0\n",
    "    df[column_to_rank] = 0\n",
    "    \n",
    "    df = df.reset_index(drop=True)\n",
    "    \n",
    "    # Generate new tables\n",
    "    new_column_values = []\n",
    "    for mesa_index, mesa_count in enumerate(mesas, start=1):\n",
    "        for i in range(1, mesa_count + 1):\n",
    "            new_column_value = f'T{mesa_index}_{i}'\n",
    "            new_column_values.append(new_column_value)\n",
    "    \n",
    "    for index, row in df.iterrows():\n",
    "        # Assuming you want to replace values in column 0 with a specific value, e.g., 'new_value'\n",
    "        df.at[index, df.columns[0]] = new_column_values[index]\n",
    "    \n",
    "    # Write the sorted DataFrame to the output CSV file\n",
    "    df.to_csv(output_file, index=False)\n",
    "\n",
    "\n",
    "def add_dynamic_column(input_file, output_file, mesas):\n",
    "    # Read CSV into a list\n",
    "    with open(input_file, 'r') as infile:\n",
    "        reader = csv.reader(infile)\n",
    "        rows = list(reader)\n",
    "\n",
    "    # Generate values for the new dynamic column\n",
    "    new_column_values = []\n",
    "    for mesa_index, mesa_count in enumerate(mesas, start=1):\n",
    "        for i in range(1, mesa_count + 1):\n",
    "            new_column_value = f'T{mesa_index}_{i}'\n",
    "            new_column_values.append(new_column_value)\n",
    "\n",
    "    # Add the new column and values to each row\n",
    "    for i, row in enumerate(rows):\n",
    "        if i == 0:  # Header row\n",
    "            row.insert(0, 'Series_Table')  # Add the new column to the header\n",
    "        else:\n",
    "            row.insert(0, new_column_values[i - 1])  # Add the corresponding value to each data row\n",
    "\n",
    "    # Write the modified list back to the CSV file\n",
    "    with open(output_file, 'w', newline='') as outfile:\n",
    "        writer = csv.writer(outfile)\n",
    "        writer.writerows(rows)\n",
    "\n",
    "\n"
   ]
  },
  {
   "cell_type": "code",
   "execution_count": 153,
   "id": "ca28c604",
   "metadata": {},
   "outputs": [],
   "source": [
    "def edit_template(input_file, output_file, sheet_name, name_list):\n",
    "    # Load the workbook\n",
    "    workbook = openpyxl.load_workbook(input_file)\n",
    "\n",
    "    # Select the desired sheet\n",
    "    sheet = workbook[sheet_name]\n",
    "\n",
    "    # Update the cell value\n",
    "    \n",
    "    #date\n",
    "    sheet['H3'] = datetime.now().date()\n",
    "    \n",
    "    #plyaer name\n",
    "    sheet['E11'] = name_list[0]\n",
    "    sheet['H11'] = name_list[1]\n",
    "    sheet['K11'] = name_list[2]\n",
    "    sheet['N11'] = name_list[3]\n",
    "\n",
    "    # Save the modified workbook to the 'print' directory (assuming it's in the same location as your script)\n",
    "    output_directory = 'print'\n",
    "    os.makedirs(output_directory, exist_ok=True)\n",
    "    output_path = os.path.join(output_directory, output_file)\n",
    "    workbook.save(output_path)\n",
    "\n"
   ]
  },
  {
   "cell_type": "code",
   "execution_count": 167,
   "id": "2e30eec2",
   "metadata": {},
   "outputs": [],
   "source": [
    "def print_excel_file(file_path):\n",
    "    o = win32com.client.Dispatch('Excel.Application')\n",
    "    o.visible = True\n",
    "    wb = o.Workbooks.Open(file_path)\n",
    "    ws = wb.Worksheets([\"Imp Sum (2)\"])\n",
    "    ws.printout()\n",
    "    o.Quit()\n",
    "\n",
    "\n"
   ]
  },
  {
   "cell_type": "code",
   "execution_count": 141,
   "id": "bf7a4528",
   "metadata": {},
   "outputs": [],
   "source": [
    "# Gerar Lista 1"
   ]
  },
  {
   "cell_type": "code",
   "execution_count": 134,
   "id": "253b3d1d",
   "metadata": {},
   "outputs": [],
   "source": [
    "mesas = [4, 4, 4, 4]\n",
    "\n",
    "randomize_csv (\"players.csv\", \"S1.csv\")\n",
    "\n",
    "add_dynamic_column(\"S1.csv\", \"S1.csv\", mesas)\n",
    "\n",
    "df = pd.read_csv(\"S1.csv\")\n",
    "\n",
    "for mesa_index, mesa_count in enumerate(mesas, start=1):\n",
    "    name_list = []\n",
    "    for i in range(1, mesa_count + 1):\n",
    "        indices_to_extract = list(range(mesa_index - 1, len(df), len(mesas)))\n",
    "        values = df.iloc[indices_to_extract]['player_name'].tolist()\n",
    "        name_list.extend(values)\n",
    "        \n",
    "    edit_template(\"template.xlsx\", f'S1_{mesa_index}.xlsx', \"Imp Sum (2)\", name_list)"
   ]
  },
  {
   "cell_type": "code",
   "execution_count": 168,
   "id": "4eaae2ee",
   "metadata": {},
   "outputs": [
    {
     "ename": "com_error",
     "evalue": "(-2147221005, 'Cadeia de caracteres de classe inválida', None, None)",
     "output_type": "error",
     "traceback": [
      "\u001b[1;31m---------------------------------------------------------------------------\u001b[0m",
      "\u001b[1;31mcom_error\u001b[0m                                 Traceback (most recent call last)",
      "File \u001b[1;32m~\\anaconda3\\Lib\\site-packages\\win32com\\client\\dynamic.py:86\u001b[0m, in \u001b[0;36m_GetGoodDispatch\u001b[1;34m(IDispatch, clsctx)\u001b[0m\n\u001b[0;32m     85\u001b[0m \u001b[38;5;28;01mtry\u001b[39;00m:\n\u001b[1;32m---> 86\u001b[0m     IDispatch \u001b[38;5;241m=\u001b[39m pythoncom\u001b[38;5;241m.\u001b[39mconnect(IDispatch)\n\u001b[0;32m     87\u001b[0m \u001b[38;5;28;01mexcept\u001b[39;00m pythoncom\u001b[38;5;241m.\u001b[39mole_error:\n",
      "\u001b[1;31mcom_error\u001b[0m: (-2147221005, 'Cadeia de caracteres de classe inválida', None, None)",
      "\nDuring handling of the above exception, another exception occurred:\n",
      "\u001b[1;31mcom_error\u001b[0m                                 Traceback (most recent call last)",
      "Cell \u001b[1;32mIn[168], line 9\u001b[0m\n\u001b[0;32m      7\u001b[0m \u001b[38;5;28;01mfor\u001b[39;00m output_file \u001b[38;5;129;01min\u001b[39;00m [\u001b[38;5;124m\"\u001b[39m\u001b[38;5;124mS1_1.xlsx\u001b[39m\u001b[38;5;124m\"\u001b[39m, \u001b[38;5;124m\"\u001b[39m\u001b[38;5;124mS1_2.xlsx\u001b[39m\u001b[38;5;124m\"\u001b[39m, \u001b[38;5;124m\"\u001b[39m\u001b[38;5;124mS1_3.xlsx\u001b[39m\u001b[38;5;124m\"\u001b[39m, \u001b[38;5;124m\"\u001b[39m\u001b[38;5;124mS1_4.xlsx\u001b[39m\u001b[38;5;124m\"\u001b[39m]:\n\u001b[0;32m      8\u001b[0m     output_path \u001b[38;5;241m=\u001b[39m os\u001b[38;5;241m.\u001b[39mpath\u001b[38;5;241m.\u001b[39mjoin(output_directory, output_file)\n\u001b[1;32m----> 9\u001b[0m     print_excel_file(output_path)\n",
      "Cell \u001b[1;32mIn[167], line 2\u001b[0m, in \u001b[0;36mprint_excel_file\u001b[1;34m(file_path)\u001b[0m\n\u001b[0;32m      1\u001b[0m \u001b[38;5;28;01mdef\u001b[39;00m \u001b[38;5;21mprint_excel_file\u001b[39m(file_path):\n\u001b[1;32m----> 2\u001b[0m     o \u001b[38;5;241m=\u001b[39m win32com\u001b[38;5;241m.\u001b[39mclient\u001b[38;5;241m.\u001b[39mDispatch(\u001b[38;5;124m'\u001b[39m\u001b[38;5;124mExcel.Application\u001b[39m\u001b[38;5;124m'\u001b[39m)\n\u001b[0;32m      3\u001b[0m     o\u001b[38;5;241m.\u001b[39mvisible \u001b[38;5;241m=\u001b[39m \u001b[38;5;28;01mTrue\u001b[39;00m\n\u001b[0;32m      4\u001b[0m     wb \u001b[38;5;241m=\u001b[39m o\u001b[38;5;241m.\u001b[39mWorkbooks\u001b[38;5;241m.\u001b[39mOpen(file_path)\n",
      "File \u001b[1;32m~\\anaconda3\\Lib\\site-packages\\win32com\\client\\__init__.py:117\u001b[0m, in \u001b[0;36mDispatch\u001b[1;34m(dispatch, userName, resultCLSID, typeinfo, UnicodeToString, clsctx)\u001b[0m\n\u001b[0;32m    115\u001b[0m \u001b[38;5;250m\u001b[39m\u001b[38;5;124;03m\"\"\"Creates a Dispatch based COM object.\"\"\"\u001b[39;00m\n\u001b[0;32m    116\u001b[0m \u001b[38;5;28;01massert\u001b[39;00m UnicodeToString \u001b[38;5;129;01mis\u001b[39;00m \u001b[38;5;28;01mNone\u001b[39;00m, \u001b[38;5;124m\"\u001b[39m\u001b[38;5;124mthis is deprecated and will go away\u001b[39m\u001b[38;5;124m\"\u001b[39m\n\u001b[1;32m--> 117\u001b[0m dispatch, userName \u001b[38;5;241m=\u001b[39m dynamic\u001b[38;5;241m.\u001b[39m_GetGoodDispatchAndUserName(dispatch, userName, clsctx)\n\u001b[0;32m    118\u001b[0m \u001b[38;5;28;01mreturn\u001b[39;00m __WrapDispatch(dispatch, userName, resultCLSID, typeinfo, clsctx\u001b[38;5;241m=\u001b[39mclsctx)\n",
      "File \u001b[1;32m~\\anaconda3\\Lib\\site-packages\\win32com\\client\\dynamic.py:106\u001b[0m, in \u001b[0;36m_GetGoodDispatchAndUserName\u001b[1;34m(IDispatch, userName, clsctx)\u001b[0m\n\u001b[0;32m    103\u001b[0m     \u001b[38;5;66;03m## ??? else userName remains None ???\u001b[39;00m\n\u001b[0;32m    104\u001b[0m \u001b[38;5;28;01melse\u001b[39;00m:\n\u001b[0;32m    105\u001b[0m     userName \u001b[38;5;241m=\u001b[39m \u001b[38;5;28mstr\u001b[39m(userName)\n\u001b[1;32m--> 106\u001b[0m \u001b[38;5;28;01mreturn\u001b[39;00m (_GetGoodDispatch(IDispatch, clsctx), userName)\n",
      "File \u001b[1;32m~\\anaconda3\\Lib\\site-packages\\win32com\\client\\dynamic.py:88\u001b[0m, in \u001b[0;36m_GetGoodDispatch\u001b[1;34m(IDispatch, clsctx)\u001b[0m\n\u001b[0;32m     86\u001b[0m         IDispatch \u001b[38;5;241m=\u001b[39m pythoncom\u001b[38;5;241m.\u001b[39mconnect(IDispatch)\n\u001b[0;32m     87\u001b[0m     \u001b[38;5;28;01mexcept\u001b[39;00m pythoncom\u001b[38;5;241m.\u001b[39mole_error:\n\u001b[1;32m---> 88\u001b[0m         IDispatch \u001b[38;5;241m=\u001b[39m pythoncom\u001b[38;5;241m.\u001b[39mCoCreateInstance(\n\u001b[0;32m     89\u001b[0m             IDispatch, \u001b[38;5;28;01mNone\u001b[39;00m, clsctx, pythoncom\u001b[38;5;241m.\u001b[39mIID_IDispatch\n\u001b[0;32m     90\u001b[0m         )\n\u001b[0;32m     91\u001b[0m \u001b[38;5;28;01melse\u001b[39;00m:\n\u001b[0;32m     92\u001b[0m     \u001b[38;5;66;03m# may already be a wrapped class.\u001b[39;00m\n\u001b[0;32m     93\u001b[0m     IDispatch \u001b[38;5;241m=\u001b[39m \u001b[38;5;28mgetattr\u001b[39m(IDispatch, \u001b[38;5;124m\"\u001b[39m\u001b[38;5;124m_oleobj_\u001b[39m\u001b[38;5;124m\"\u001b[39m, IDispatch)\n",
      "\u001b[1;31mcom_error\u001b[0m: (-2147221005, 'Cadeia de caracteres de classe inválida', None, None)"
     ]
    }
   ],
   "source": [
    "# Imprimir Lista 1\n",
    "\n",
    "output_directory = 'print'\n",
    "os.makedirs(output_directory, exist_ok=True)\n",
    "\n",
    "\n",
    "for output_file in [\"S1_1.xlsx\", \"S1_2.xlsx\", \"S1_3.xlsx\", \"S1_4.xlsx\"]:\n",
    "    output_path = os.path.join(output_directory, output_file)\n",
    "    print_excel_file(output_path)"
   ]
  },
  {
   "cell_type": "code",
   "execution_count": 71,
   "id": "d5941821",
   "metadata": {},
   "outputs": [],
   "source": [
    "# Gerar Lista 2"
   ]
  },
  {
   "cell_type": "code",
   "execution_count": 149,
   "id": "147f138c",
   "metadata": {},
   "outputs": [],
   "source": [
    "rank_csv (\"S1.csv\", \"S2.csv\", \"points\")\n",
    "\n",
    "df = pd.read_csv(\"S2.csv\")\n",
    "\n",
    "for mesa_index, mesa_count in enumerate(mesas, start=1):\n",
    "    name_list = []\n",
    "    for i in range(1, mesa_count + 1):\n",
    "        indices_to_extract = list(range(mesa_index - 1, len(df), len(mesas)))\n",
    "        values = df.iloc[indices_to_extract]['player_name'].tolist()\n",
    "        name_list.extend(values)\n",
    "        \n",
    "    edit_template(\"template.xlsx\", f'S2_{mesa_index}.xlsx', \"Imp Sum (2)\", name_list)"
   ]
  },
  {
   "cell_type": "code",
   "execution_count": null,
   "id": "300c7c1e",
   "metadata": {},
   "outputs": [],
   "source": [
    "# Imprimir Lista 2\n",
    "\n",
    "output_directory = 'print'\n",
    "os.makedirs(output_directory, exist_ok=True)\n",
    "\n",
    "\n",
    "for output_file in [\"S2_1.xlsx\", \"S2_2.xlsx\", \"S2_3.xlsx\", \"S2_4.xlsx\"]:\n",
    "    output_path = os.path.join(output_directory, output_file)\n",
    "    print_excel_file(output_path)"
   ]
  }
 ],
 "metadata": {
  "kernelspec": {
   "display_name": "Python 3 (ipykernel)",
   "language": "python",
   "name": "python3"
  },
  "language_info": {
   "codemirror_mode": {
    "name": "ipython",
    "version": 3
   },
   "file_extension": ".py",
   "mimetype": "text/x-python",
   "name": "python",
   "nbconvert_exporter": "python",
   "pygments_lexer": "ipython3",
   "version": "3.11.5"
  }
 },
 "nbformat": 4,
 "nbformat_minor": 5
}
